{
 "cells": [
  {
   "cell_type": "code",
   "execution_count": null,
   "id": "bc57defd",
   "metadata": {},
   "outputs": [],
   "source": [
    "# Import necessary packages\n",
    "import pandas as pd\n",
    "import numpy as np\n",
    "from numpy import asarray\n",
    "from sklearn.model_selection import train_test_split\n",
    "from sklearn.linear_model import LogisticRegression\n",
    "from sklearn.metrics import accuracy_score, classification_report\n",
    "from sklearn.preprocessing import OneHotEncoder\n",
    "from sklearn.compose import ColumnTransformer\n",
    "from sklearn.pipeline import Pipeline\n",
    "from imblearn.combine import SMOTEENN\n",
    "from sklearn.metrics import f1_score\n",
    "from sklearn.metrics import confusion_matrix, ConfusionMatrixDisplay, roc_auc_score\n",
    "\n",
    "# Read in the data\n",
    "df = pd.read_csv(\"top_ports_lines.csv\")"
   ]
  },
  {
   "cell_type": "code",
   "execution_count": null,
   "id": "15c9b16a",
   "metadata": {},
   "outputs": [],
   "source": [
    "# Train-Validation-Test Split\n",
    "\n",
    "# Split the DataFrame into X (features) and y (target variable)\n",
    "y = df[[\"cancelled\"]]\n",
    "X = df.drop(\"cancelled\", axis=1) #dropping the column \"cancelled\"\n",
    "\n",
    "# Selecting which variables we think are important to use in our logistic regression model, a priori.\n",
    "X = X[[\"operating_airline\", \"origin\", \"crs_dep_time\", \"dep_delay\", \"distance\"]]"
   ]
  },
  {
   "cell_type": "code",
   "execution_count": null,
   "id": "41ed81b2",
   "metadata": {},
   "outputs": [],
   "source": [
    "# One-hot encode the categorical variables (\"operating_airline\" and \"origin\")\n",
    "\n",
    "# define one hot encoding\n",
    "encoder = OneHotEncoder(sparse_output=False, drop=\"first\")\n",
    "# transform data\n",
    "\n",
    "encoder.fit(X[[\"operating_airline\", \"origin\"]])\n",
    "onehot = encoder.transform(X[[\"operating_airline\", \"origin\"]])\n",
    "\n",
    "# Get column names\n",
    "col_names = encoder.get_feature_names_out([\"operating_airline\", \"origin\"])\n",
    "\n",
    "# Create DataFrame with proper column names\n",
    "one_hot_df = pd.DataFrame(onehot, columns=col_names)"
   ]
  },
  {
   "cell_type": "code",
   "execution_count": null,
   "id": "4c3c986f",
   "metadata": {},
   "outputs": [],
   "source": [
    "# Merged one-hot-encoded DataFrame with original X DataFrame\n",
    "x_encoded = pd.concat([X, one_hot_df], axis=1)"
   ]
  },
  {
   "cell_type": "code",
   "execution_count": null,
   "id": "caf13247",
   "metadata": {},
   "outputs": [],
   "source": [
    "# Create 50:40:10 train:validation:test split before performing exploratory data analysis to prevent data leakage and overfitting\n",
    "# Model development and feature selection will be done on the training set only.\n",
    "\n",
    "# Train, Validation, Test Split\n",
    "x_train, x_valtest, y_train, y_valtest = train_test_split(x_encoded, y, train_size=0.50, random_state=123)\n",
    "x_val, x_test, y_val, y_test = train_test_split(x_valtest, y_valtest, train_size=0.8, random_state=123)"
   ]
  },
  {
   "cell_type": "code",
   "execution_count": null,
   "id": "27ed642c",
   "metadata": {},
   "outputs": [],
   "source": [
    "# Transform binary variable \"cancelled\" with values 1 and 2 to 0 and 1, respectively\n",
    "y_train = y_train - 1\n",
    "y_val = y_val - 1\n",
    "y_test = y_test - 1"
   ]
  },
  {
   "cell_type": "code",
   "execution_count": null,
   "id": "ddac9ac7",
   "metadata": {},
   "outputs": [],
   "source": [
    "# Create new var crs_dep_hour to only include the expected hour of departure and drop the crs_dep_time var\n",
    "x_train[\"crs_dep_hour\"] = x_train[\"crs_dep_time\"].astype(str).str.zfill(4).str[:2].astype(int)\n",
    "x_train = x_train.drop(columns=[\"crs_dep_time\"])\n",
    "\n",
    "x_val[\"crs_dep_hour\"] = x_val[\"crs_dep_time\"].astype(str).str.zfill(4).str[:2].astype(int)\n",
    "x_val = x_val.drop(columns=[\"crs_dep_time\"])\n",
    "\n",
    "x_test[\"crs_dep_hour\"] = x_test[\"crs_dep_time\"].astype(str).str.zfill(4).str[:2].astype(int)\n",
    "x_test = x_test.drop(columns=[\"crs_dep_time\"])"
   ]
  },
  {
   "cell_type": "code",
   "execution_count": null,
   "id": "4d7e5792",
   "metadata": {},
   "outputs": [],
   "source": [
    "# Impute missing values in dep_delay using the median (data is skewed)\n",
    "x_train[\"dep_delay\"] = x_train['dep_delay'].fillna(x_train[\"dep_delay\"].median())\n",
    "x_val[\"dep_delay\"] = x_val['dep_delay'].fillna(x_val[\"dep_delay\"].median())\n",
    "x_test[\"dep_delay\"] = x_test['dep_delay'].fillna(x_test[\"dep_delay\"].median())\n",
    "\n",
    "# Convert departure delay variable into type integer\n",
    "x_train[\"dep_delay\"] = x_train[\"dep_delay\"].astype(int)\n",
    "x_val[\"dep_delay\"] = x_val[\"dep_delay\"].astype(int)\n",
    "x_test[\"dep_delay\"] = x_test[\"dep_delay\"].astype(int)"
   ]
  },
  {
   "cell_type": "code",
   "execution_count": null,
   "id": "d863abc5",
   "metadata": {},
   "outputs": [],
   "source": [
    "# SMOTE + Tomek (SMOTEENN) using stepwise selected variables\n",
    "smote_enn_stepwise = SMOTEENN(random_state=123)\n",
    "\n",
    "# Resample dataset to create a more balanced dataset for training using SMOTEENN on stepwise selected features\n",
    "X_resampled_step, y_resampled_step = smote_enn_stepwise.fit_resample(x_train[['dep_delay', 'distance',\n",
    "       'operating_airline_AS', 'operating_airline_B6', 'operating_airline_DL', 'operating_airline_G4', 'operating_airline_HA',\n",
    "       'operating_airline_NK', 'operating_airline_UA', 'operating_airline_WN',\n",
    "       'origin_CLT', 'origin_DEN', 'origin_DFW', 'origin_LAS',\n",
    "       'origin_MCO', 'origin_MIA', 'origin_ORD', 'crs_dep_hour']], y_train)"
   ]
  },
  {
   "cell_type": "code",
   "execution_count": null,
   "id": "b43d96d1",
   "metadata": {},
   "outputs": [],
   "source": [
    "# Fit logistic model to resampled training data (SMOTEENN)\n",
    "log_model_res = LogisticRegression(random_state = 123)\n",
    "\n",
    "log_model_res.fit(X_resampled_step, y_resampled_step)\n",
    "y_pred_val_res = log_model_res.predict(x_val[['dep_delay', 'distance',\n",
    "       'operating_airline_AS', 'operating_airline_B6', 'operating_airline_DL', 'operating_airline_G4', 'operating_airline_HA',\n",
    "       'operating_airline_NK', 'operating_airline_UA', 'operating_airline_WN',\n",
    "       'origin_CLT', 'origin_DEN', 'origin_DFW', 'origin_LAS',\n",
    "       'origin_MCO', 'origin_MIA', 'origin_ORD', 'crs_dep_hour']])\n",
    "print(f\"Validation accuracy after SMOTEENN (stepwise selected features): {accuracy_score(y_val, y_pred_val_res)}\")"
   ]
  },
  {
   "cell_type": "code",
   "execution_count": null,
   "id": "b8d708be",
   "metadata": {},
   "outputs": [],
   "source": [
    "# Evaluate the model\n",
    "print(classification_report(y_val, y_pred_val_res))\n",
    "print(f\"f1 score is {f1_score(y_val, y_pred_val_res, average='binary')}\")\n",
    "\n",
    "cm = confusion_matrix(y_val, y_pred_val_res)\n",
    "print(\"Confusion Matrix: \")\n",
    "print(cm)\n",
    "print(\"ROC-AUC:\", roc_auc_score(y_val, y_pred_val_res))"
   ]
  },
  {
   "cell_type": "code",
   "execution_count": null,
   "id": "39ef1b30",
   "metadata": {},
   "outputs": [],
   "source": [
    "# Testing our Best Model - Smoteen from stepwise selected variables\n",
    "y_pred_test_res = log_model_res.predict(x_test[['dep_delay', 'distance',\n",
    "       'operating_airline_AS', 'operating_airline_B6', 'operating_airline_DL', 'operating_airline_G4', 'operating_airline_HA',\n",
    "       'operating_airline_NK', 'operating_airline_UA', 'operating_airline_WN',\n",
    "       'origin_CLT', 'origin_DEN', 'origin_DFW', 'origin_LAS',\n",
    "       'origin_MCO', 'origin_MIA', 'origin_ORD', 'crs_dep_hour']])\n",
    "\n",
    "# Generate predictions on test data\n",
    "print(classification_report(y_test, y_pred_test_res))\n",
    "cm2 = confusion_matrix(y_test, y_pred_test_res)\n",
    "print(\"Confusion Matrix: \")\n",
    "print(cm2)\n",
    "print(\"ROC-AUC:\", roc_auc_score(y_test, y_pred_test_res))\n",
    "print(f\"Test accuracy after SMOTEENN (stepwise selected features): {accuracy_score(y_test, y_pred_test_res)}\")"
   ]
  }
 ],
 "metadata": {
  "language_info": {
   "name": "python"
  }
 },
 "nbformat": 4,
 "nbformat_minor": 5
}
